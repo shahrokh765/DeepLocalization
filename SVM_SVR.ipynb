{
 "cells": [
  {
   "cell_type": "code",
   "execution_count": null,
   "metadata": {},
   "outputs": [],
   "source": [
    "### SVM and SVR"
   ]
  },
  {
   "cell_type": "code",
   "execution_count": 1,
   "metadata": {},
   "outputs": [],
   "source": [
    "# IMPORTS\n",
    "from sklearn.datasets import load_iris\n",
    "from sklearn.neighbors import KNeighborsClassifier\n",
    "from sklearn import metrics\n",
    "# from sklearn.cross_validation import *\n",
    "import numpy as np\n",
    "import matplotlib.pyplot as plt\n",
    "import pandas as pd\n",
    "from sklearn.model_selection import train_test_split\n",
    "from sklearn.svm import SVC, SVR, LinearSVR\n",
    "from sklearn.model_selection import GridSearchCV\n",
    "from sklearn.metrics import make_scorer\n",
    "from sklearn.metrics import classification_report, confusion_matrix\n",
    "from sklearn.preprocessing import StandardScaler\n",
    "%matplotlib inline"
   ]
  },
  {
   "cell_type": "code",
   "execution_count": 2,
   "metadata": {},
   "outputs": [],
   "source": [
    "# INIT\n",
    "number_samples = [5] + list(range(10, 101, 10)) + [120, 150, 200, 250, 300, 400, 500, 700] + list(range(1000, 4001, 1000))\n",
    "number_samples = [256, 512, 1024, 2048, 4096]\n",
    "# number_samples = [30, 60, 90, 120, 150, 180, 210]\n",
    "C_vec = list(np.arange(1, 1002, 100))\n",
    "max_txs_number, num_sensors, SENSOR_LOCATION = 1, 400, True\n",
    "noise_floor = -90.0\n",
    "DUMMY_LOC_VALUE, DUMMY_POWER_VALUE = noise_floor, noise_floor"
   ]
  },
  {
   "cell_type": "code",
   "execution_count": 3,
   "metadata": {},
   "outputs": [],
   "source": [
    "# LOAD DATA\n",
    "num_columns = num_sensors * (3 if SENSOR_LOCATION else 1) + max_txs_number * 3 + 1\n",
    "cols = [i for i in range(num_columns)]\n",
    "dataframe = pd.read_csv('../../java_workspace/research/localization/resources/data/' +\n",
    "                        '50000_1TXs_400sensor_square1000grid_log_alpha2.0_2020_08_16_18_15.txt', \n",
    "                        delimiter=',', header=None, names=cols)\n",
    "dataframe.reset_index(drop=True, inplace=True)\n",
    "\n",
    "data_reg = dataframe.values\n",
    "# data_reg[data_reg < noise_floor] = noise_floor\n",
    "del dataframe"
   ]
  },
  {
   "cell_type": "code",
   "execution_count": 54,
   "metadata": {},
   "outputs": [],
   "source": [
    "data_reg[data_reg < noise_floor] = noise_floor"
   ]
  },
  {
   "cell_type": "code",
   "execution_count": 4,
   "metadata": {
    "scrolled": true
   },
   "outputs": [
    {
     "data": {
      "text/plain": [
       "(array([1.000e+01, 3.300e+01, 7.900e+01, 1.670e+02, 2.710e+02, 3.690e+02,\n",
       "        4.800e+02, 5.720e+02, 7.050e+02, 8.080e+02, 8.400e+02, 9.320e+02,\n",
       "        1.035e+03, 1.040e+03, 1.132e+03, 1.165e+03, 1.184e+03, 1.190e+03,\n",
       "        1.219e+03, 1.259e+03, 1.326e+03, 1.341e+03, 1.265e+03, 1.351e+03,\n",
       "        1.376e+03, 1.363e+03, 1.374e+03, 1.310e+03, 1.405e+03, 1.312e+03,\n",
       "        1.401e+03, 1.357e+03, 1.391e+03, 1.425e+03, 1.318e+03, 1.452e+03,\n",
       "        1.331e+03, 1.369e+03, 1.353e+03, 1.183e+03, 1.104e+03, 1.002e+03,\n",
       "        8.880e+02, 7.910e+02, 6.990e+02, 6.300e+02, 4.980e+02, 4.540e+02,\n",
       "        4.170e+02, 3.530e+02, 3.050e+02, 2.360e+02, 1.910e+02, 1.440e+02,\n",
       "        1.250e+02, 9.100e+01, 8.400e+01, 7.500e+01, 6.500e+01, 5.600e+01,\n",
       "        6.200e+01, 3.700e+01, 4.100e+01, 3.000e+01, 2.600e+01, 1.400e+01,\n",
       "        1.300e+01, 1.600e+01, 5.000e+00, 9.000e+00, 1.100e+01, 9.000e+00,\n",
       "        5.000e+00, 3.000e+00, 2.000e+00, 4.000e+00, 3.000e+00, 2.000e+00,\n",
       "        0.000e+00, 1.000e+00, 1.000e+00, 0.000e+00, 1.000e+00, 0.000e+00,\n",
       "        1.000e+00, 1.000e+00, 1.000e+00, 1.000e+00]),\n",
       " array([-91.44      , -90.59919318, -89.75838636, -88.91757955,\n",
       "        -88.07677273, -87.23596591, -86.39515909, -85.55435227,\n",
       "        -84.71354545, -83.87273864, -83.03193182, -82.191125  ,\n",
       "        -81.35031818, -80.50951136, -79.66870455, -78.82789773,\n",
       "        -77.98709091, -77.14628409, -76.30547727, -75.46467045,\n",
       "        -74.62386364, -73.78305682, -72.94225   , -72.10144318,\n",
       "        -71.26063636, -70.41982955, -69.57902273, -68.73821591,\n",
       "        -67.89740909, -67.05660227, -66.21579545, -65.37498864,\n",
       "        -64.53418182, -63.693375  , -62.85256818, -62.01176136,\n",
       "        -61.17095455, -60.33014773, -59.48934091, -58.64853409,\n",
       "        -57.80772727, -56.96692045, -56.12611364, -55.28530682,\n",
       "        -54.4445    , -53.60369318, -52.76288636, -51.92207955,\n",
       "        -51.08127273, -50.24046591, -49.39965909, -48.55885227,\n",
       "        -47.71804545, -46.87723864, -46.03643182, -45.195625  ,\n",
       "        -44.35481818, -43.51401136, -42.67320455, -41.83239773,\n",
       "        -40.99159091, -40.15078409, -39.30997727, -38.46917045,\n",
       "        -37.62836364, -36.78755682, -35.94675   , -35.10594318,\n",
       "        -34.26513636, -33.42432955, -32.58352273, -31.74271591,\n",
       "        -30.90190909, -30.06110227, -29.22029545, -28.37948864,\n",
       "        -27.53868182, -26.697875  , -25.85706818, -25.01626136,\n",
       "        -24.17545455, -23.33464773, -22.49384091, -21.65303409,\n",
       "        -20.81222727, -19.97142045, -19.13061364, -18.28980682,\n",
       "        -17.449     ]),\n",
       " <a list of 88 Patch objects>)"
      ]
     },
     "execution_count": 4,
     "metadata": {},
     "output_type": "execute_result"
    },
    {
     "data": {
      "image/png": "[encoded data removed]",
      "text/plain": [
       "<Figure size 432x288 with 1 Axes>"
      ]
     },
     "metadata": {
      "needs_background": "light"
     },
     "output_type": "display_data"
    }
   ],
   "source": [
    "plt.hist(data_reg[:,2:3:num_sensors*3], bins='auto')"
   ]
  },
  {
   "cell_type": "code",
   "execution_count": 17,
   "metadata": {},
   "outputs": [],
   "source": [
    "# LOAD DATA for testbed\n",
    "num_columns = (num_sensors if IS_SENSORS else max_pus_number * 3 + 1) + max_sus_number * 3 + 1\n",
    "cols = [i for i in range(num_columns)]\n",
    "dataframe = pd.read_csv('ML/data/' + 'testbed_ss_1_shuf', \n",
    "                        delimiter=',', header=None, names=cols)\n",
    "dataframe.reset_index(drop=True, inplace=True)\n",
    "data_reg = dataframe.values\n",
    "data_reg[data_reg<-90] = -90"
   ]
  },
  {
   "cell_type": "code",
   "execution_count": 12,
   "metadata": {},
   "outputs": [
    {
     "data": {
      "text/plain": [
       "array([747.   , 106.   , -73.303, ..., 816.   , 496.   , -22.291])"
      ]
     },
     "execution_count": 12,
     "metadata": {},
     "output_type": "execute_result"
    }
   ],
   "source": [
    "data_reg[0]"
   ]
  },
  {
   "cell_type": "code",
   "execution_count": 20,
   "metadata": {},
   "outputs": [],
   "source": [
    "selected_columns = [12, 2, 0, 9, 14]\n",
    "droped_columns = []\n",
    "for i in range(18):\n",
    "    if i not in selected_columns:\n",
    "        droped_columns.append(i)\n",
    "data_reg = np.delete(data_reg, droped_columns, 1)\n",
    "num_sensors = 5\n",
    "num_columns = (num_sensors if IS_SENSORS else max_pus_number * 3 + 1) + max_sus_number * 3 + 2"
   ]
  },
  {
   "cell_type": "code",
   "execution_count": 5,
   "metadata": {},
   "outputs": [],
   "source": [
    "# Splitting data\n",
    "# def split_data(data, train_samples):\n",
    "#     num_inputs = data.shape[1] - 1\n",
    "#     val_samples = round(train_samples/3)\n",
    "#     X_train, y_train = data[0:train_samples, 0: num_inputs], data[0:train_samples, -1]\n",
    "#     X_val, y_val = data[train_samples:train_samples+val_samples, 0: num_inputs],data[train_samples:train_samples+val_samples, -1]\n",
    "#     X_test, y_test = data[train_samples:, 0: num_inputs], data[train_samples:, -1]\n",
    "#     return X_train,X_val, X_test, y_train, y_val, y_test\n",
    "\n",
    "def split_data(data: np.ndarray, train_samples, target:'str'):\n",
    "    num_inputs = num_sensors if not SENSOR_LOCATION else 3 * num_sensors\n",
    "    val_samples = round(train_samples/3)\n",
    "    test_samples = data.shape[0] - val_samples - train_samples\n",
    "    #init arrays\n",
    "    X_train = np.ones((train_samples, num_inputs), dtype=float) * DUMMY_LOC_VALUE\n",
    "    X_val = np.ones((val_samples, num_inputs), dtype=float) * DUMMY_LOC_VALUE\n",
    "    X_test = np.ones((test_samples, num_inputs), dtype=float) * DUMMY_LOC_VALUE\n",
    "    # read values\n",
    "    X_train[:, :num_inputs] = data[:train_samples, :num_inputs]\n",
    "    X_val[:, :num_inputs] = data[train_samples:train_samples + val_samples, :num_inputs]\n",
    "    X_test[:, :num_inputs] = data[train_samples + val_samples: , :num_inputs]\n",
    "    # TODO: multi-tx support is missing\n",
    "    y_pos = 0;\n",
    "    if target in ['x', 'X']:\n",
    "        y_pos = -3\n",
    "    elif target in ['y', 'Y']:\n",
    "        y_pos = -2\n",
    "    else:\n",
    "        y_pos = -1\n",
    "        \n",
    "    y_train = data[0 : train_samples, y_pos]\n",
    "    y_val = data[train_samples : train_samples + val_samples, y_pos]\n",
    "    y_test = data[train_samples + val_samples:, y_pos]\n",
    "    return X_train,X_val, X_test, y_train, y_val, y_test"
   ]
  },
  {
   "cell_type": "code",
   "execution_count": 11,
   "metadata": {},
   "outputs": [],
   "source": [
    "#utils\n",
    "def false_analysis(y_test, y_pred):\n",
    "    tp = sum(y_pred[y_test==1])\n",
    "    fp = sum(y_pred) - tp\n",
    "    return fp, sum(y_test) - tp"
   ]
  },
  {
   "cell_type": "code",
   "execution_count": 6,
   "metadata": {},
   "outputs": [
    {
     "name": "stdout",
     "output_type": "stream",
     "text": [
      "[490.    570.    -81.531 ... 110.    448.    -29.509]\n",
      "[490.    570.    -81.531 ... 388.    717.    -81.26 ]\n",
      "-29.509\n",
      "***\n",
      "[988.    617.    -78.303 ... 501.    673.    -24.496]\n",
      "[988.    617.    -78.303 ... 582.    693.    -62.922]\n",
      "-24.496\n",
      "***\n",
      "[302.    714.    -65.28  ... 123.    153.     -9.879]\n",
      "[302.    714.    -65.28  ... 788.    994.    -70.484]\n",
      "-9.879\n"
     ]
    }
   ],
   "source": [
    "X_train, X_val, X_test, y_train, y_val, y_test = split_data(data_reg, 20, 'p')\n",
    "print(data_reg[0])\n",
    "print(X_train[0])\n",
    "print(y_train[0])\n",
    "print(\"***\")\n",
    "print(data_reg[20])\n",
    "print(X_val[0])\n",
    "print(y_val[0])\n",
    "print(\"***\")\n",
    "print(data_reg[27])\n",
    "print(X_test[0])\n",
    "print(y_test[0])"
   ]
  },
  {
   "cell_type": "code",
   "execution_count": 7,
   "metadata": {},
   "outputs": [
    {
     "data": {
      "text/plain": [
       "(7, 1200)"
      ]
     },
     "execution_count": 7,
     "metadata": {},
     "output_type": "execute_result"
    }
   ],
   "source": [
    "X_val.shape"
   ]
  },
  {
   "cell_type": "code",
   "execution_count": 29,
   "metadata": {},
   "outputs": [
    {
     "data": {
      "text/plain": [
       "-49.678999999999995"
      ]
     },
     "execution_count": 29,
     "metadata": {},
     "output_type": "execute_result"
    }
   ],
   "source": [
    "max(data_reg[0][0:num_sensors])"
   ]
  },
  {
   "cell_type": "code",
   "execution_count": 25,
   "metadata": {},
   "outputs": [
    {
     "data": {
      "text/plain": [
       "[1, 101, 201, 301, 401, 501, 601, 701, 801, 901, 1001]"
      ]
     },
     "execution_count": 25,
     "metadata": {},
     "output_type": "execute_result"
    }
   ],
   "source": [
    "C_vec"
   ]
  },
  {
   "cell_type": "code",
   "execution_count": 51,
   "metadata": {},
   "outputs": [],
   "source": [
    "number_samples = [512, 1024, 2048, 4096]"
   ]
  },
  {
   "cell_type": "code",
   "execution_count": 8,
   "metadata": {},
   "outputs": [
    {
     "name": "stdout",
     "output_type": "stream",
     "text": [
      "Number_samples:  256 power error:  1.392 distance error:  384.308\n",
      "Number_samples:  512 power error:  1.285 distance error:  383.106\n"
     ]
    },
    {
     "ename": "KeyboardInterrupt",
     "evalue": "",
     "output_type": "error",
     "traceback": [
      "\u001b[0;31m---------------------------------------------------------------------------\u001b[0m",
      "\u001b[0;31mKeyboardInterrupt\u001b[0m                         Traceback (most recent call last)",
      "\u001b[0;32m<ipython-input-8-a2877e83c086>\u001b[0m in \u001b[0;36m<module>\u001b[0;34m\u001b[0m\n\u001b[1;32m     29\u001b[0m         \u001b[0;31m#predicting\u001b[0m\u001b[0;34m\u001b[0m\u001b[0;34m\u001b[0m\u001b[0;34m\u001b[0m\u001b[0m\n\u001b[1;32m     30\u001b[0m         \u001b[0mX_test\u001b[0m \u001b[0;34m=\u001b[0m \u001b[0mscaler_x\u001b[0m\u001b[0;34m.\u001b[0m\u001b[0mtransform\u001b[0m\u001b[0;34m(\u001b[0m\u001b[0mX_test\u001b[0m\u001b[0;34m)\u001b[0m\u001b[0;34m\u001b[0m\u001b[0;34m\u001b[0m\u001b[0m\n\u001b[0;32m---> 31\u001b[0;31m         \u001b[0my_pred\u001b[0m \u001b[0;34m=\u001b[0m \u001b[0mbestsvrclassifier\u001b[0m\u001b[0;34m.\u001b[0m\u001b[0mpredict\u001b[0m\u001b[0;34m(\u001b[0m\u001b[0mX_test\u001b[0m\u001b[0;34m)\u001b[0m\u001b[0;34m\u001b[0m\u001b[0;34m\u001b[0m\u001b[0m\n\u001b[0m\u001b[1;32m     32\u001b[0m         \u001b[0my_pred_dic\u001b[0m\u001b[0;34m[\u001b[0m\u001b[0mtarget\u001b[0m\u001b[0;34m]\u001b[0m \u001b[0;34m=\u001b[0m \u001b[0my_pred\u001b[0m\u001b[0;34m\u001b[0m\u001b[0;34m\u001b[0m\u001b[0m\n\u001b[1;32m     33\u001b[0m \u001b[0;34m\u001b[0m\u001b[0m\n",
      "\u001b[0;32m~/anaconda3/envs/research/lib/python3.7/site-packages/sklearn/svm/_base.py\u001b[0m in \u001b[0;36mpredict\u001b[0;34m(self, X)\u001b[0m\n\u001b[1;32m    315\u001b[0m         \u001b[0mX\u001b[0m \u001b[0;34m=\u001b[0m \u001b[0mself\u001b[0m\u001b[0;34m.\u001b[0m\u001b[0m_validate_for_predict\u001b[0m\u001b[0;34m(\u001b[0m\u001b[0mX\u001b[0m\u001b[0;34m)\u001b[0m\u001b[0;34m\u001b[0m\u001b[0;34m\u001b[0m\u001b[0m\n\u001b[1;32m    316\u001b[0m         \u001b[0mpredict\u001b[0m \u001b[0;34m=\u001b[0m \u001b[0mself\u001b[0m\u001b[0;34m.\u001b[0m\u001b[0m_sparse_predict\u001b[0m \u001b[0;32mif\u001b[0m \u001b[0mself\u001b[0m\u001b[0;34m.\u001b[0m\u001b[0m_sparse\u001b[0m \u001b[0;32melse\u001b[0m \u001b[0mself\u001b[0m\u001b[0;34m.\u001b[0m\u001b[0m_dense_predict\u001b[0m\u001b[0;34m\u001b[0m\u001b[0;34m\u001b[0m\u001b[0m\n\u001b[0;32m--> 317\u001b[0;31m         \u001b[0;32mreturn\u001b[0m \u001b[0mpredict\u001b[0m\u001b[0;34m(\u001b[0m\u001b[0mX\u001b[0m\u001b[0;34m)\u001b[0m\u001b[0;34m\u001b[0m\u001b[0;34m\u001b[0m\u001b[0m\n\u001b[0m\u001b[1;32m    318\u001b[0m \u001b[0;34m\u001b[0m\u001b[0m\n\u001b[1;32m    319\u001b[0m     \u001b[0;32mdef\u001b[0m \u001b[0m_dense_predict\u001b[0m\u001b[0;34m(\u001b[0m\u001b[0mself\u001b[0m\u001b[0;34m,\u001b[0m \u001b[0mX\u001b[0m\u001b[0;34m)\u001b[0m\u001b[0;34m:\u001b[0m\u001b[0;34m\u001b[0m\u001b[0;34m\u001b[0m\u001b[0m\n",
      "\u001b[0;32m~/anaconda3/envs/research/lib/python3.7/site-packages/sklearn/svm/_base.py\u001b[0m in \u001b[0;36m_dense_predict\u001b[0;34m(self, X)\u001b[0m\n\u001b[1;32m    337\u001b[0m             \u001b[0mself\u001b[0m\u001b[0;34m.\u001b[0m\u001b[0mprobA_\u001b[0m\u001b[0;34m,\u001b[0m \u001b[0mself\u001b[0m\u001b[0;34m.\u001b[0m\u001b[0mprobB_\u001b[0m\u001b[0;34m,\u001b[0m \u001b[0msvm_type\u001b[0m\u001b[0;34m=\u001b[0m\u001b[0msvm_type\u001b[0m\u001b[0;34m,\u001b[0m \u001b[0mkernel\u001b[0m\u001b[0;34m=\u001b[0m\u001b[0mkernel\u001b[0m\u001b[0;34m,\u001b[0m\u001b[0;34m\u001b[0m\u001b[0;34m\u001b[0m\u001b[0m\n\u001b[1;32m    338\u001b[0m             \u001b[0mdegree\u001b[0m\u001b[0;34m=\u001b[0m\u001b[0mself\u001b[0m\u001b[0;34m.\u001b[0m\u001b[0mdegree\u001b[0m\u001b[0;34m,\u001b[0m \u001b[0mcoef0\u001b[0m\u001b[0;34m=\u001b[0m\u001b[0mself\u001b[0m\u001b[0;34m.\u001b[0m\u001b[0mcoef0\u001b[0m\u001b[0;34m,\u001b[0m \u001b[0mgamma\u001b[0m\u001b[0;34m=\u001b[0m\u001b[0mself\u001b[0m\u001b[0;34m.\u001b[0m\u001b[0m_gamma\u001b[0m\u001b[0;34m,\u001b[0m\u001b[0;34m\u001b[0m\u001b[0;34m\u001b[0m\u001b[0m\n\u001b[0;32m--> 339\u001b[0;31m             cache_size=self.cache_size)\n\u001b[0m\u001b[1;32m    340\u001b[0m \u001b[0;34m\u001b[0m\u001b[0m\n\u001b[1;32m    341\u001b[0m     \u001b[0;32mdef\u001b[0m \u001b[0m_sparse_predict\u001b[0m\u001b[0;34m(\u001b[0m\u001b[0mself\u001b[0m\u001b[0;34m,\u001b[0m \u001b[0mX\u001b[0m\u001b[0;34m)\u001b[0m\u001b[0;34m:\u001b[0m\u001b[0;34m\u001b[0m\u001b[0;34m\u001b[0m\u001b[0m\n",
      "\u001b[0;31mKeyboardInterrupt\u001b[0m: "
     ]
    }
   ],
   "source": [
    "# SVR\n",
    "average_reg_diff_power, best_c_reg_lst, fp_mean_power, averae_dist_error = [], [], [], []\n",
    "for number_sample in number_samples:\n",
    "    best_c_reg_dic = {}\n",
    "    y_test_dic, y_pred_dic = {}, {}\n",
    "    for target in ['x', 'y', 'power']:\n",
    "        min_err = float('inf')\n",
    "        best_c_reg, bestsvrclassifier =  None, None\n",
    "        X_train, X_val, X_test, y_train, y_val, y_test = split_data(data_reg, number_sample, target)\n",
    "        y_test_dic[target] = y_test\n",
    "        #training\n",
    "        scaler_x = StandardScaler()\n",
    "        scaler_x.fit(X_train)\n",
    "        X_train = scaler_x.transform(X_train)\n",
    "        X_val = scaler_x.transform(X_val)\n",
    "        for c in C_vec:\n",
    "            svrlassifier = SVR(kernel='rbf', C=c, degree=X_train.shape[1]+1)\n",
    "            svrlassifier.fit(X_train, y_train)\n",
    "\n",
    "            #validating\n",
    "            y_pred_val = svrlassifier.predict(X_val)\n",
    "            err_tmp = np.mean(np.absolute(y_pred_val - y_val))\n",
    "            if err_tmp < min_err:\n",
    "                min_err = err_tmp\n",
    "                best_c_reg = c\n",
    "                bestsvrclassifier = svrlassifier\n",
    "        \n",
    "        best_c_reg_dic[target] = best_c_reg\n",
    "        #predicting\n",
    "        X_test = scaler_x.transform(X_test)\n",
    "        y_pred = bestsvrclassifier.predict(X_test)\n",
    "        y_pred_dic[target] = y_pred\n",
    "\n",
    "\n",
    "        #evaluating\n",
    "        if target == 'power':\n",
    "            average_reg_diff_power.append(round(np.mean(np.absolute(y_test - y_pred)), 3))\n",
    "#             fp_samples = np.zeros(len(y_test), dtype=float)\n",
    "#             fp_samples[y_pred > y_test] = (y_pred - y_test)[y_pred > y_test]\n",
    "#             fp_mean_power.append(round(np.mean(fp_samples), 3))\n",
    "    dist_error = np.round(np.mean(np.sqrt(np.power(y_pred_dic['x'] - y_test_dic['x'], 2) + \n",
    "                                         np.power(y_pred_dic['y'] - y_test_dic['y'], 2))), 3)\n",
    "    averae_dist_error.append(dist_error)\n",
    "    best_c_reg_lst.append(best_c_reg_dic)\n",
    "    print('Number_samples: ', number_sample, 'power error: ', average_reg_diff_power[-1], \n",
    "         'distance error: ', averae_dist_error[-1])"
   ]
  },
  {
   "cell_type": "code",
   "execution_count": 25,
   "metadata": {},
   "outputs": [
    {
     "data": {
      "text/plain": [
       "(50000, 1200)"
      ]
     },
     "execution_count": 25,
     "metadata": {},
     "output_type": "execute_result"
    }
   ],
   "source": [
    "data_reg[:,:num_sensors*3].shape"
   ]
  },
  {
   "cell_type": "code",
   "execution_count": 23,
   "metadata": {},
   "outputs": [
    {
     "data": {
      "text/plain": [
       "1201"
      ]
     },
     "execution_count": 23,
     "metadata": {},
     "output_type": "execute_result"
    }
   ],
   "source": [
    "svrlassifier.degree"
   ]
  },
  {
   "cell_type": "code",
   "execution_count": 18,
   "metadata": {},
   "outputs": [
    {
     "name": "stdout",
     "output_type": "stream",
     "text": [
      "[LibSVM]251.39651675422618\n"
     ]
    }
   ],
   "source": [
    "X_train, X_val, X_test, y_train, y_val, y_test = split_data(data_reg, 256, 'x')\n",
    "scaler_x = StandardScaler()\n",
    "scaler_x.fit(X_train)\n",
    "X_train = scaler_x.transform(X_train)\n",
    "X_val = scaler_x.transform(X_val)\n",
    "svrlassifier = SVR(kernel='sigmoid', C=0.1, degree=X_train.shape[1]+1)\n",
    "svrlassifier.fit(X_train, y_train)\n",
    "X_test = scaler_x.transform(X_test)\n",
    "y_pred = svrlassifier.predict(X_test)\n",
    "print(np.mean(np.absolute(y_pred - y_test)))\n"
   ]
  },
  {
   "cell_type": "code",
   "execution_count": 26,
   "metadata": {},
   "outputs": [
    {
     "data": {
      "text/plain": [
       "array([[ 3.3100e+02,  2.3300e+02, -6.2118e+01, ...,  4.8800e+02,\n",
       "         1.7500e+02, -1.7644e+01],\n",
       "       [ 6.9500e+02,  5.4900e+02, -8.1566e+01, ...,  2.7000e+01,\n",
       "         6.2200e+02, -2.5019e+01],\n",
       "       [ 8.6700e+02,  4.5800e+02, -6.6108e+01, ...,  9.0400e+02,\n",
       "         8.5000e+01, -1.4632e+01],\n",
       "       ...,\n",
       "       [ 4.0000e+01,  2.6200e+02, -5.9186e+01, ...,  8.9400e+02,\n",
       "         3.1800e+02, -5.3800e-01],\n",
       "       [ 2.5100e+02,  8.6900e+02, -7.9184e+01, ...,  5.2500e+02,\n",
       "         2.7600e+02, -2.2883e+01],\n",
       "       [ 4.9200e+02,  5.7600e+02, -6.8531e+01, ...,  7.0200e+02,\n",
       "         8.1600e+02, -1.8458e+01]])"
      ]
     },
     "execution_count": 26,
     "metadata": {},
     "output_type": "execute_result"
    }
   ],
   "source": [
    "data_reg"
   ]
  },
  {
   "cell_type": "code",
   "execution_count": 10,
   "metadata": {},
   "outputs": [
    {
     "data": {
      "text/plain": [
       "[{'x': 101, 'y': 1, 'power': 101}, {'x': 1, 'y': 1, 'power': 101}]"
      ]
     },
     "execution_count": 10,
     "metadata": {},
     "output_type": "execute_result"
    }
   ],
   "source": [
    "best_c_reg_lst"
   ]
  },
  {
   "cell_type": "markdown",
   "metadata": {},
   "source": [
    "# noise_floor = -90\n",
    "Number_samples:  256 power error:  1.355 distance error:  383.626\n",
    "Number_samples:  512 power error:  1.262 distance error:  383.798\n",
    "Number_samples:  1024 power error:  1.177 distance error:  383.401\n",
    "Number_samples:  2048 power error:  1.136 distance error:  383.386"
   ]
  },
  {
   "cell_type": "code",
   "execution_count": 15,
   "metadata": {},
   "outputs": [
    {
     "data": {
      "image/png": "[encoded data removed]",
      "text/plain": [
       "<Figure size 1080x576 with 1 Axes>"
      ]
     },
     "metadata": {
      "needs_background": "light"
     },
     "output_type": "display_data"
    }
   ],
   "source": [
    "### MAX_POWER ANAlysis, Using SSs\n",
    "# Effect of changing sensor set size, 210 training sample\n",
    "#variable training samples, , field 10*10, validation samples training/5, test samples few\n",
    "# dynamic pus(number of pus is changing),  field 10*10\n",
    "# data_sets = {\"testbed_ss_1_shuf\"}\n",
    "# comparing CNN and previous machine learning algos using pu info.\n",
    "# number_samples = [30, 60, 90, 120, 150, 180, 210] \n",
    "\n",
    "power_error = []\n",
    "dist_error = []\n",
    "training_samples = [256, 512, 1024, 2048, 4096]  \n",
    "\n",
    "\n",
    "#0: noise_floor = -90, 1600 sensors\n",
    "power_error.append([0.661, 0.491, 0.346, 0.231, 0.165]) # no noise, alpha=3\n",
    "dist_error.append([82.39, 61.85, 46.61, 34.81, 25.31]) # no noise, alpha=3\n",
    "\n",
    "#1: no noise_floor, 1600 sensors\n",
    "power_error.append([0.211, 0.133, 0.09, 0.07, 0.06])  # no noise, alpha=3\n",
    "dist_error.append([9.9, 5.21, 2.499, 1.512, 1.09])    # no noise, alpha=3\n",
    "\n",
    "#2: no noise, nf=-90, alpha = 2, 1600 sensors\n",
    "power_error.append([0.149, 0.106, 0.077, 0.066, 0.059])\n",
    "dist_error.append([11.299, 5.763, 3.442, 2.049, 1.268])\n",
    "\n",
    "#3: std=1.0, nf=-90, alpha=2, 400 uniform sensors\n",
    "power_error.append([0.254, 0.191, 0.15, 0.13, 0.115])\n",
    "dist_error.append([18.49, 14.81, 12.74, 11.4, 9.95])\n",
    "\n",
    "#4: std=1.0, nf=-90, alpha=2, 1600 uniform sensors\n",
    "power_error.append([0.217, 0.153, 0.107, 0.082, 0.067])\n",
    "dist_error.append([17.44, 11.8, 8.38, 6.92, 6.18])\n",
    "\n",
    "\n",
    "\n",
    "line_width = 6\n",
    "marker_size = 10\n",
    "reg_style = 'solid'\n",
    "class_reg = 'dashed'\n",
    "fig = plt.figure(figsize=(15,8))\n",
    "ax = fig.add_subplot(1,1,1)\n",
    "# plt.plot(training_samples, average_diff[0], color='r', linewidth=line_width, markersize=marker_size, linestyle=reg_style)\n",
    "plt.plot(training_samples, power_error[0], color='darkred',  #midnightblue, darkred\n",
    "         linewidth=line_width, markersize=marker_size, linestyle=reg_style)\n",
    "plt.plot(training_samples, power_error[2], color='darkred', linewidth=line_width,\n",
    "         markersize=marker_size, linestyle=class_reg)\n",
    "# plt.plot(training_samples, average_diff[2], color='darkgreen', linewidth=line_width,\n",
    "#          markersize=marker_size, linestyle=reg_style)\n",
    "# plt.plot(training_samples, average_diff[4], color='darkorange', linewidth=line_width,\n",
    "#          markersize=marker_size, linestyle=reg_style)\n",
    "plt.xlabel('# of Training Samples', fontsize=42)\n",
    "plt.ylabel('Avg. Diff. wrt Opt. (m)', fontsize=42)\n",
    "plt.title('Power Error')\n",
    "plt.grid(True)\n",
    "\n",
    "ax.set_yticks(np.arange(0.1, 1, 0.2))\n",
    "plt.rcParams.update({'font.size': 42})\n",
    "ax.tick_params(axis='x', labelsize=42)\n",
    "ax.tick_params(axis='y', labelsize=42)\n",
    "\n",
    "# matplotlib.rcParams.update({'font.size': 22})\n",
    "\n",
    "ax.set_ylim([0, 0.9])\n",
    "ax.set_xlim([200, 4100])\n",
    "plt.legend([ 'alpha=3', 'alpha=2'], ncol=3, loc='best', handletextpad=0.1,\n",
    "           borderpad=0, columnspacing=0.2, borderaxespad=0.2)\n",
    "# plt.legend(handletextpad=0.1)\n",
    "plt.savefig('results/field1000_alpha3_no_noise_1600sensors_power_error_nf.png', \n",
    "            bbox_inches = 'tight', pad_inches = 0)"
   ]
  },
  {
   "cell_type": "code",
   "execution_count": 24,
   "metadata": {},
   "outputs": [
    {
     "name": "stdout",
     "output_type": "stream",
     "text": [
      "Number_samples:  256 power error:  1.151 distance error:  394.547\n"
     ]
    },
    {
     "ename": "KeyboardInterrupt",
     "evalue": "",
     "output_type": "error",
     "traceback": [
      "\u001b[0;31m---------------------------------------------------------------------------\u001b[0m",
      "\u001b[0;31mKeyboardInterrupt\u001b[0m                         Traceback (most recent call last)",
      "\u001b[0;32m<ipython-input-24-f0325e63940f>\u001b[0m in \u001b[0;36m<module>\u001b[0;34m\u001b[0m\n\u001b[1;32m     28\u001b[0m         \u001b[0mbest_c_reg_dic\u001b[0m\u001b[0;34m[\u001b[0m\u001b[0mtarget\u001b[0m\u001b[0;34m]\u001b[0m \u001b[0;34m=\u001b[0m \u001b[0mbest_c_reg\u001b[0m\u001b[0;34m\u001b[0m\u001b[0;34m\u001b[0m\u001b[0m\n\u001b[1;32m     29\u001b[0m         \u001b[0;31m#predicting\u001b[0m\u001b[0;34m\u001b[0m\u001b[0;34m\u001b[0m\u001b[0;34m\u001b[0m\u001b[0m\n\u001b[0;32m---> 30\u001b[0;31m         \u001b[0mX_test\u001b[0m \u001b[0;34m=\u001b[0m \u001b[0mscaler_x\u001b[0m\u001b[0;34m.\u001b[0m\u001b[0mtransform\u001b[0m\u001b[0;34m(\u001b[0m\u001b[0mX_test\u001b[0m\u001b[0;34m)\u001b[0m\u001b[0;34m\u001b[0m\u001b[0;34m\u001b[0m\u001b[0m\n\u001b[0m\u001b[1;32m     31\u001b[0m         \u001b[0my_pred\u001b[0m \u001b[0;34m=\u001b[0m \u001b[0mbestsvrclassifier\u001b[0m\u001b[0;34m.\u001b[0m\u001b[0mpredict\u001b[0m\u001b[0;34m(\u001b[0m\u001b[0mX_test\u001b[0m\u001b[0;34m)\u001b[0m\u001b[0;34m\u001b[0m\u001b[0;34m\u001b[0m\u001b[0m\n\u001b[1;32m     32\u001b[0m         \u001b[0my_pred_dic\u001b[0m\u001b[0;34m[\u001b[0m\u001b[0mtarget\u001b[0m\u001b[0;34m]\u001b[0m \u001b[0;34m=\u001b[0m \u001b[0my_pred\u001b[0m\u001b[0;34m\u001b[0m\u001b[0;34m\u001b[0m\u001b[0m\n",
      "\u001b[0;32m~/anaconda3/envs/research/lib/python3.7/site-packages/sklearn/preprocessing/_data.py\u001b[0m in \u001b[0;36mtransform\u001b[0;34m(self, X, copy)\u001b[0m\n\u001b[1;32m    793\u001b[0m         X = check_array(X, accept_sparse='csr', copy=copy,\n\u001b[1;32m    794\u001b[0m                         \u001b[0mestimator\u001b[0m\u001b[0;34m=\u001b[0m\u001b[0mself\u001b[0m\u001b[0;34m,\u001b[0m \u001b[0mdtype\u001b[0m\u001b[0;34m=\u001b[0m\u001b[0mFLOAT_DTYPES\u001b[0m\u001b[0;34m,\u001b[0m\u001b[0;34m\u001b[0m\u001b[0;34m\u001b[0m\u001b[0m\n\u001b[0;32m--> 795\u001b[0;31m                         force_all_finite='allow-nan')\n\u001b[0m\u001b[1;32m    796\u001b[0m \u001b[0;34m\u001b[0m\u001b[0m\n\u001b[1;32m    797\u001b[0m         \u001b[0;32mif\u001b[0m \u001b[0msparse\u001b[0m\u001b[0;34m.\u001b[0m\u001b[0missparse\u001b[0m\u001b[0;34m(\u001b[0m\u001b[0mX\u001b[0m\u001b[0;34m)\u001b[0m\u001b[0;34m:\u001b[0m\u001b[0;34m\u001b[0m\u001b[0;34m\u001b[0m\u001b[0m\n",
      "\u001b[0;32m~/anaconda3/envs/research/lib/python3.7/site-packages/sklearn/utils/validation.py\u001b[0m in \u001b[0;36mcheck_array\u001b[0;34m(array, accept_sparse, accept_large_sparse, dtype, order, copy, force_all_finite, ensure_2d, allow_nd, ensure_min_samples, ensure_min_features, warn_on_dtype, estimator)\u001b[0m\n\u001b[1;32m    600\u001b[0m \u001b[0;34m\u001b[0m\u001b[0m\n\u001b[1;32m    601\u001b[0m     \u001b[0;32mif\u001b[0m \u001b[0mcopy\u001b[0m \u001b[0;32mand\u001b[0m \u001b[0mnp\u001b[0m\u001b[0;34m.\u001b[0m\u001b[0mmay_share_memory\u001b[0m\u001b[0;34m(\u001b[0m\u001b[0marray\u001b[0m\u001b[0;34m,\u001b[0m \u001b[0marray_orig\u001b[0m\u001b[0;34m)\u001b[0m\u001b[0;34m:\u001b[0m\u001b[0;34m\u001b[0m\u001b[0;34m\u001b[0m\u001b[0m\n\u001b[0;32m--> 602\u001b[0;31m         \u001b[0marray\u001b[0m \u001b[0;34m=\u001b[0m \u001b[0mnp\u001b[0m\u001b[0;34m.\u001b[0m\u001b[0marray\u001b[0m\u001b[0;34m(\u001b[0m\u001b[0marray\u001b[0m\u001b[0;34m,\u001b[0m \u001b[0mdtype\u001b[0m\u001b[0;34m=\u001b[0m\u001b[0mdtype\u001b[0m\u001b[0;34m,\u001b[0m \u001b[0morder\u001b[0m\u001b[0;34m=\u001b[0m\u001b[0morder\u001b[0m\u001b[0;34m)\u001b[0m\u001b[0;34m\u001b[0m\u001b[0;34m\u001b[0m\u001b[0m\n\u001b[0m\u001b[1;32m    603\u001b[0m \u001b[0;34m\u001b[0m\u001b[0m\n\u001b[1;32m    604\u001b[0m     if (warn_on_dtype and dtypes_orig is not None and\n",
      "\u001b[0;31mKeyboardInterrupt\u001b[0m: "
     ]
    }
   ],
   "source": [
    "# LinearSVR\n",
    "average_reg_diff_power, best_c_reg_lst, fp_mean_power, averae_dist_error = [], [], [], []\n",
    "for number_sample in number_samples:\n",
    "    best_c_reg_dic = {}\n",
    "    y_test_dic, y_pred_dic = {}, {}\n",
    "    for target in ['x', 'y', 'power']:\n",
    "        min_err = float('inf')\n",
    "        best_c_reg, bestsvrclassifier =  None, None\n",
    "        X_train, X_val, X_test, y_train, y_val, y_test = split_data(data_reg, number_sample, target)\n",
    "        y_test_dic[target] = y_test\n",
    "        #training\n",
    "        scaler_x = StandardScaler()\n",
    "        scaler_x.fit(X_train)\n",
    "        X_train = scaler_x.transform(X_train)\n",
    "        X_val = scaler_x.transform(X_val)\n",
    "        for c in C_vec:\n",
    "            svrlassifier = LinearSVR(C=c, loss='epsilon_insensitive')\n",
    "            svrlassifier.fit(X_train, y_train)\n",
    "\n",
    "            #validating\n",
    "            y_pred_val = svrlassifier.predict(X_val)\n",
    "            err_tmp = np.mean(np.absolute(y_pred_val - y_val))\n",
    "            if err_tmp < min_err:\n",
    "                min_err = err_tmp\n",
    "                best_c_reg = c\n",
    "                bestsvrclassifier = svrlassifier\n",
    "        \n",
    "        best_c_reg_dic[target] = best_c_reg\n",
    "        #predicting\n",
    "        X_test = scaler_x.transform(X_test)\n",
    "        y_pred = bestsvrclassifier.predict(X_test)\n",
    "        y_pred_dic[target] = y_pred\n",
    "\n",
    "\n",
    "        #evaluating\n",
    "        if target == 'power':\n",
    "            average_reg_diff_power.append(round(np.mean(np.absolute(y_test - y_pred)), 3))\n",
    "#             fp_samples = np.zeros(len(y_test), dtype=float)\n",
    "#             fp_samples[y_pred > y_test] = (y_pred - y_test)[y_pred > y_test]\n",
    "#             fp_mean_power.append(round(np.mean(fp_samples), 3))\n",
    "    dist_error = np.round(np.mean(np.sqrt(np.power(y_pred_dic['x'] - y_test_dic['x'], 2) + \n",
    "                                         np.power(y_pred_dic['y'] - y_test_dic['y'], 2))), 3)\n",
    "    averae_dist_error.append(dist_error)\n",
    "    best_c_reg_lst.append(best_c_reg_dic)\n",
    "    print('Number_samples: ', number_sample, 'power error: ', average_reg_diff_power[-1], \n",
    "         'distance error: ', averae_dist_error[-1])"
   ]
  },
  {
   "cell_type": "code",
   "execution_count": 15,
   "metadata": {},
   "outputs": [
    {
     "name": "stdout",
     "output_type": "stream",
     "text": [
      "[13.66, 9.952, 7.887, 8.077, 8.125, 6.643, 6.83]\n",
      "[5.692, 1.234, 3.923, 3.047, 4.302, 3.164, 4.037]\n"
     ]
    }
   ],
   "source": [
    "print(average_reg_diff_power)\n",
    "print(fp_mean_power)"
   ]
  },
  {
   "cell_type": "code",
   "execution_count": null,
   "metadata": {},
   "outputs": [],
   "source": [
    "fig = plt.figure(figsize=(15,8))\n",
    "ax = fig.add_subplot(1,1,1)\n",
    "plt.plot(number_samples, average_class_diff_power)\n",
    "plt.plot(number_samples, average_reg_diff_power, 'r--')\n",
    "plt.xlabel('# training samples')\n",
    "plt.ylabel('Diff(dB)')\n",
    "plt.title('Average absolute difference power(Dynamic PUs, Using PUs, Test_size=40k)')\n",
    "plt.grid(True)\n",
    "\n",
    "ax.set_yticks(np.arange(0,20, 2))\n",
    "ax.set_ylim([2,20])\n",
    "ax.set_xticks(np.arange(5,4100, 500))\n",
    "# plt.grid(which='minor')\n",
    "# plt.text(40, 50, '# Validation = 34k')\n",
    "# plt.text(400, 45, '# Test = 34k')\n",
    "plt.legend(['SVM', 'SVR'])\n",
    "plt.savefig('ML\\\\results\\\\changing_training_test40k_4kx4k_smallVal_compare_dynamicPUS_averag_powerSVMSVR.png')"
   ]
  },
  {
   "cell_type": "code",
   "execution_count": null,
   "metadata": {},
   "outputs": [],
   "source": [
    "average_reg_diff_power_tot = []\n"
   ]
  },
  {
   "cell_type": "code",
   "execution_count": null,
   "metadata": {},
   "outputs": [],
   "source": [
    "print(number_samples)"
   ]
  },
  {
   "cell_type": "code",
   "execution_count": null,
   "metadata": {},
   "outputs": [],
   "source": [
    "average_reg_diff_power_tot.append(average_reg_diff_power)"
   ]
  },
  {
   "cell_type": "code",
   "execution_count": null,
   "metadata": {
    "scrolled": true
   },
   "outputs": [],
   "source": [
    "## SVM(SVC)\n",
    "average_class_diff_power = []\n",
    "fp_mean_power = []\n",
    "accuracy, f_score, false_positive, false_negative = [], [], [], []\n",
    "best_c_lst = []\n",
    "fp_penalty_coef, fn_penalty_coef = 1, 1\n",
    "metric = \"fp_min\"  # {\"accuracy\", \"fp_min\"}\n",
    "class_weight = {0:fp_penalty_coef/(fp_penalty_coef + fn_penalty_coef), 1:fn_penalty_coef/(fp_penalty_coef + fn_penalty_coef)}\n",
    "best_c, bestsvcclassifier = None, None\n",
    "for number_sample in number_samples:\n",
    "    best_accuracy = -float('inf')\n",
    "    best_fp = float('inf')\n",
    "    X_train, X_val, X_test, y_train, y_val, y_test = split_data(data_class, number_sample)\n",
    "    scaler_x = StandardScaler()\n",
    "    scaler_x.fit(X_train)\n",
    "    X_train = scaler_x.transform(X_train)\n",
    "    X_val = scaler_x.transform(X_val)\n",
    "    for c in C_vec:\n",
    "        svclassifier = SVC(kernel='rbf', C=c, class_weight = class_weight)\n",
    "        svclassifier.fit(X_train, y_train)\n",
    "        \n",
    "        #validating\n",
    "        y_pred_val = svclassifier.predict(X_val)\n",
    "        if metric == \"accuracy\":\n",
    "            accuracy_tmp = metrics.accuracy_score(y_val, y_pred_val)\n",
    "            if accuracy_tmp > best_accuracy:\n",
    "                best_accuracy = accuracy_tmp\n",
    "                best_c = c\n",
    "                bestsvcclassifier = svclassifier\n",
    "        elif metric == \"fp_min\":\n",
    "            conf_mat = metrics.confusion_matrix(y_val, y_pred_val)\n",
    "            fp_tmp = conf_mat[0][1] if len(conf_mat) == 2 else 0\n",
    "            if fp_tmp < best_fp:\n",
    "                best_fp = fp_tmp\n",
    "                best_c = c\n",
    "                bestsvcclassifier = svclassifier\n",
    "                    \n",
    "            \n",
    "    best_c_lst.append(best_c)\n",
    "    #predicting\n",
    "    X_test = scaler_x.transform(X_test)\n",
    "    y_pred = bestsvcclassifier.predict(X_test)\n",
    "    \n",
    "    #evaluating\n",
    "    accuracy.append(round(metrics.accuracy_score(y_test, y_pred), 3))\n",
    "    f_score.append(round(metrics.f1_score(y_true=y_test, y_pred=y_pred), 3))\n",
    "    fp, fn = false_analysis(y_test, y_pred)\n",
    "    false_positive.append(int(fp))\n",
    "    false_negative.append(int(fn))\n",
    "    \n",
    "    #Power max calculations\n",
    "    y_class_power_test = y_class_power[len(y_class_power)-X_test.shape[0]:]\n",
    "    y_class_power_pred = np.zeros(y_class_power_test.size)\n",
    "    max_power = max(y_class_power_test) + 10  # 10 is added to increase higher bound\n",
    "    min_power = min(y_class_power_test) - 10  # 10 is subtracted to decrease lower bound\n",
    "    for i in range(len(y_class_power_test)):\n",
    "        h = max_power\n",
    "        l = min_power\n",
    "        while h - l > 0.5:\n",
    "            mid = l + (h - l)/2;\n",
    "            mid_norm = (mid - scaler_x.mean_[-1])/scaler_x.scale_[-1]\n",
    "            X_test[i][-1] = mid_norm\n",
    "            res_tmp = bestsvcclassifier.predict(X_test[i:i+1])\n",
    "            if res_tmp[0]:\n",
    "                l = mid\n",
    "            else:\n",
    "                h = mid\n",
    "        y_class_power_pred[i] = l + (h - l)/2\n",
    "    average_class_diff_power.append(round(np.mean(np.absolute(y_class_power_pred - y_class_power_test)), 3))\n",
    "    fp_samples = np.zeros(len(y_class_power_pred), dtype=float)\n",
    "    fp_samples[y_class_power_pred > y_class_power_test] = (y_class_power_pred - y_class_power_test)[y_class_power_pred > \n",
    "                                                                                                    y_class_power_test]\n",
    "    fp_mean_power.append(round(np.mean(fp_samples), 3))\n",
    "    print('Number_samples:', number_sample, ', accuracy:', accuracy[-1], ', f_score:', f_score[-1], \n",
    "          ', fp:', fp,', fn:', fn, ', error:', average_class_diff_power[-1], 'fp_error:', fp_mean_power[-1])\n",
    "del svclassifier"
   ]
  },
  {
   "cell_type": "code",
   "execution_count": null,
   "metadata": {},
   "outputs": [],
   "source": [
    "print(average_class_diff_power)\n",
    "print(fp_mean_power)"
   ]
  },
  {
   "cell_type": "code",
   "execution_count": null,
   "metadata": {},
   "outputs": [],
   "source": [
    "### MAX_POWER ANAlysis\n",
    "fig = plt.figure(figsize=(15,8))\n",
    "ax = fig.add_subplot(1,1,1)\n",
    "plt.plot(number_samples, accuracy)\n",
    "plt.xlabel('# training samples')\n",
    "plt.ylabel('%')\n",
    "plt.title('SVM: Classification Accuracy(Dynamic PUs, Using PUs, Test_size=40k)')\n",
    "plt.grid(True)\n",
    "plt.savefig('ML\\\\results\\\\changing_training_test40k_4kx4k_smallVal_compare_dynamicPUS_svmAcc.png')\n",
    "\n",
    "fig = plt.figure(figsize=(15,8))\n",
    "ax = fig.add_subplot(1,1,1)\n",
    "plt.plot(number_samples, f_score)\n",
    "plt.xlabel('# training samples')\n",
    "plt.ylabel('%')\n",
    "plt.title('SVM: Classification F_score(Dynamic PUs, Using PUs, Test_size=40k)')\n",
    "plt.grid(True)\n",
    "plt.savefig('ML\\\\results\\\\changing_training_test40k_4kx4k_smallVal_compare_dynamicPUS_svmfscore.png')\n",
    "\n",
    "fig = plt.figure(figsize=(15,8))\n",
    "ax = fig.add_subplot(1,1,1)\n",
    "plt.plot(number_samples, false_positive)\n",
    "plt.xlabel('# training samples')\n",
    "plt.ylabel('#')\n",
    "plt.title('SVM: Classification FP(Dynamic PUs, Using PUs, Test_size=40k)')\n",
    "plt.grid(True)\n",
    "plt.savefig('ML\\\\results\\\\changing_training_test40k_4kx4k_smallVal_compare_dynamicPUS_svmfp.png')\n",
    "\n",
    "fig = plt.figure(figsize=(15,8))\n",
    "ax = fig.add_subplot(1,1,1)\n",
    "plt.plot(number_samples, false_negative)\n",
    "plt.xlabel('# training samples')\n",
    "plt.ylabel('#')\n",
    "plt.title('SVM: Classification FN(Dynamic PUs, Using PUs, Test_size=40k)')\n",
    "plt.grid(True)\n",
    "plt.savefig('ML\\\\results\\\\changing_training_test40k_4kx4k_smallVal_compare_dynamicPUS_svmfn.png')"
   ]
  },
  {
   "cell_type": "code",
   "execution_count": null,
   "metadata": {},
   "outputs": [],
   "source": [
    "number_samples = [5, 10, 20, 30, 40, 50, 60, 70, 80, 90, 100, 120, 150, 200, 250, 300, 400, 500, 700, 1000, 2000, 3000, 4000]\n",
    "average_reg_diff_power_tot = [[4.91, 4.915, 5.02, 7.274, 5.21, 5.476, 5.547, 5.448, 5.358, 5.486, 5.424, 5.585, 5.423, 5.369,\n",
    "                               5.275, 5.22, 5.065, 5.058, 4.915, 4.873, 4.8, 4.787, 4.782], \n",
    "                              [4.739, 4.728, 4.858, 4.9, 4.761, 4.835, 4.898, 4.959, 4.806, 4.913, 4.945, 4.88, 4.8, 4.812,\n",
    "                               4.756, 4.74, 4.764, 4.832, 4.729, 4.745, 4.728, 4.728, 4.731], \n",
    "                              [5.59, 5.33, 4.764, 4.731, 4.728, 4.923, 5.086, 4.798, 4.816, 5.035, 4.827, 4.842, 4.757, 4.796,\n",
    "                               4.734, 4.748, 4.74, 4.734, 4.728, 4.729, 4.726, 4.726, 4.728], \n",
    "                              [4.791, 4.781, 4.732, 5.677, 4.757, 4.837, 4.841, 5.242, 4.81, 4.955, 4.972, 5.106, 4.801, 4.754,\n",
    "                               4.764, 4.748, 4.757, 4.763, 4.737, 4.735, 4.737, 4.74, 4.744]]"
   ]
  },
  {
   "cell_type": "code",
   "execution_count": null,
   "metadata": {},
   "outputs": [],
   "source": [
    "fig = plt.figure(figsize=(15,8))\n",
    "ax = fig.add_subplot(1,1,1)\n",
    "plt.plot(number_samples, average_reg_diff_power_tot[0])\n",
    "plt.plot(number_samples, average_reg_diff_power_tot[1], 'r--')\n",
    "plt.plot(number_samples, average_reg_diff_power_tot[2], 'g.-')\n",
    "plt.plot(number_samples, average_reg_diff_power_tot[3], 'y->')\n",
    "plt.xlabel('# training samples')\n",
    "plt.ylabel('Diff(dB)')\n",
    "plt.title('Average absolute difference power(Dynamic PUs, Using PUs, Test_size=40k)')\n",
    "plt.grid(True)\n",
    "\n",
    "ax.set_yticks(np.arange(0,8, 2))\n",
    "ax.set_ylim([2,8])\n",
    "ax.set_xticks(np.arange(5,4100, 500))\n",
    "# plt.grid(which='minor')\n",
    "# plt.text(40, 50, '# Validation = 34k')\n",
    "# plt.text(400, 45, '# Test = 34k')\n",
    "plt.legend(['linear', 'rbf', 'poly', 'sigmoid'])\n",
    "# plt.savefig('ML\\\\results\\\\changing_training_test40k_4kx4k_smallVal_compare_dynamicPUS_averag_powerSVMSVR.png')"
   ]
  },
  {
   "cell_type": "code",
   "execution_count": null,
   "metadata": {},
   "outputs": [],
   "source": []
  }
 ],
 "metadata": {
  "kernelspec": {
   "display_name": "Python 3",
   "language": "python",
   "name": "python3"
  },
  "language_info": {
   "codemirror_mode": {
    "name": "ipython",
    "version": 3
   },
   "file_extension": ".py",
   "mimetype": "text/x-python",
   "name": "python",
   "nbconvert_exporter": "python",
   "pygments_lexer": "ipython3",
   "version": "3.7.6"
  }
 },
 "nbformat": 4,
 "nbformat_minor": 2
}
